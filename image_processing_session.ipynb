{
  "nbformat": 4,
  "nbformat_minor": 0,
  "metadata": {
    "colab": {
      "provenance": [],
      "authorship_tag": "ABX9TyNanQiNa/a6Dl11FHWnS6WV",
      "include_colab_link": true
    },
    "kernelspec": {
      "name": "python3",
      "display_name": "Python 3"
    },
    "language_info": {
      "name": "python"
    }
  },
  "cells": [
    {
      "cell_type": "markdown",
      "metadata": {
        "id": "view-in-github",
        "colab_type": "text"
      },
      "source": [
        "<a href=\"https://colab.research.google.com/github/dksr1729/Mass-Mailer/blob/main/image_processing_session.ipynb\" target=\"_parent\"><img src=\"https://colab.research.google.com/assets/colab-badge.svg\" alt=\"Open In Colab\"/></a>"
      ]
    },
    {
      "cell_type": "code",
      "execution_count": null,
      "metadata": {
        "id": "CMWR1tICuvjv"
      },
      "outputs": [],
      "source": [
        "import cv2\n",
        "import numpy as np\n",
        "import os\n",
        "from google.colab.patches import cv2_imshow"
      ]
    },
    {
      "cell_type": "code",
      "source": [
        "def detect_shapes(img):\n",
        "\n",
        "    detected_shapes = []\n",
        "    \n",
        "    # convert to grayscale\n",
        "    imgGry = cv2.cvtColor(img, cv2.COLOR_BGR2GRAY) \n",
        "    \n",
        "    #thresholding\n",
        "    _, thrash = cv2.threshold(imgGry, 175, 255, cv2.THRESH_BINARY_INV)\n",
        "\n",
        "    #finding all the contours\n",
        "    contours , _ = cv2.findContours(thrash, cv2.RETR_TREE, cv2.CHAIN_APPROX_SIMPLE) \n",
        "\n",
        "    #iterating through contours\n",
        "    for contour in contours: \n",
        "        shape_details=[]\n",
        "        Shape,Color,cX,cY = None,None,None,None\n",
        "        \n",
        "        #detecting shape \n",
        "        approx = cv2.approxPolyDP(contour, 0.04* cv2.arcLength(contour, True), True)\n",
        "        \n",
        "        if len(approx) == 3 :\n",
        "            Shape = 'Triangle'\n",
        "        elif len(approx) == 4 :\n",
        "            x, y , w, h = cv2.boundingRect(approx)\n",
        "            aspectRatio = float(w)/h\n",
        "            if aspectRatio >= 0.95 and aspectRatio < 1.10:\n",
        "                Shape = 'Square'\n",
        "            else:\n",
        "                Shape = 'Rectangle'\n",
        "        elif len(approx) == 5 :\n",
        "            Shape = 'Pentagon'\n",
        "        else:\n",
        "            Shape = 'Circle'\n",
        "        \n",
        "        #detecting mid point\n",
        "        M = cv2.moments(contour)\n",
        "        if M[\"m00\"] != 0:\n",
        "            cX = int(M[\"m10\"] / M[\"m00\"])\n",
        "            cY = int(M[\"m01\"] / M[\"m00\"])\n",
        "        \n",
        "        #detecting the colour in bgr format at mid point of the contour in current iteration...\n",
        "        bgr=img[cY][cX]\n",
        "        \n",
        "        if(bgr[0] in range(240,256) and bgr[1] in range(0,16)  and bgr[2] in range(0,16)):\n",
        "            Color = 'Blue'\n",
        "        elif(bgr[1] in range(245,256) and bgr[2] in range(0,16) and bgr[0] in range(0,16)):\n",
        "            Color = 'Green'\n",
        "        elif(bgr[2] in range(245,256) and bgr[1] in range(0,16) and bgr[0] in range(0,16)):\n",
        "            Color = 'Red'\n",
        "        elif(bgr[1] in range(139,166) and bgr[0] in range(0,16) and bgr[2] in range(250,256)):\n",
        "            Color=  'Orange'\n",
        "        elif(bgr[1] in range(250,256) and bgr[0] in range(120,130) and bgr[2] ==0):\n",
        "            Color = 'Violet'\n",
        "        elif(bgr[1] == 0 and bgr[0] in range(125,135) and bgr[2] in range(70,80)):\n",
        "            Color = 'Indigo'\n",
        "        elif(bgr[1] in range(250,256) and bgr[0] ==0 and bgr[2] ==255):\n",
        "            Color = 'Yellow'\n",
        "\n",
        "        shape_details.append(Color)\n",
        "        shape_details.append(Shape)\n",
        "        mp = (cX,cY)\n",
        "        shape_details.append(mp)\n",
        "        detected_shapes.append(shape_details)\n",
        "\n",
        "    ##################################################\n",
        "    \n",
        "    return detected_shapes\n",
        "\n",
        "def get_labeled_image(img, detected_shapes):\n",
        "    for detected in detected_shapes:\n",
        "        colour = detected[0]\n",
        "        shape = detected[1]\n",
        "        coordinates = detected[2]\n",
        "        cv2.putText(img, str((colour, shape)),coordinates, cv2.FONT_HERSHEY_SIMPLEX, 0.5, (0,0,0), 2)\n",
        "    return img\n",
        "\n",
        "if __name__ == '__main__':\n",
        "    \n",
        "    img_dir_path = ''\n",
        "    for file_num in range(1, 11):\n",
        "            img_file_path = img_dir_path + 'test_image_' + str(file_num) + '.png'\n",
        "            img = cv2.imread(img_file_path)\n",
        "            print('\\n****************************************')\n",
        "            print('\\nFor test_image_' + str(file_num) + '.png')\n",
        "            \n",
        "            # detect shape properties from image\n",
        "            detected_shapes = detect_shapes(img)\n",
        "            print(detected_shapes)\n",
        "            \n",
        "            # display image with labeled shapes\n",
        "            img = get_labeled_image(img, detected_shapes)\n",
        "            cv2_imshow(img)\n",
        "            cv2.waitKey(10000)\n",
        "            cv2.destroyAllWindows()\n",
        "\n",
        "\n",
        "\n",
        "\n",
        "        "
      ],
      "metadata": {
        "id": "zQnA-aDtvnOc"
      },
      "execution_count": null,
      "outputs": []
    }
  ]
}